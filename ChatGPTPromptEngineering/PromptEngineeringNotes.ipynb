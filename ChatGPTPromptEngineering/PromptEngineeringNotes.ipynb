{
 "cells": [
  {
   "cell_type": "markdown",
   "metadata": {},
   "source": [
    "# ChatGPT Prompt Engineering for Developers"
   ]
  },
  {
   "cell_type": "markdown",
   "metadata": {},
   "source": [
    "## Setup"
   ]
  },
  {
   "cell_type": "code",
   "execution_count": null,
   "metadata": {},
   "outputs": [],
   "source": [
    "# OpenAI python library for API\n",
    "# %pip install openai"
   ]
  },
  {
   "cell_type": "code",
   "execution_count": null,
   "metadata": {},
   "outputs": [],
   "source": [
    "import openai\n",
    "import os\n",
    "\n",
    "# get API key at https://platform.openai.com/account/api-keys\n",
    "openai.api_key  = os.getenv('OPENAI_API_KEY')"
   ]
  },
  {
   "cell_type": "code",
   "execution_count": null,
   "metadata": {},
   "outputs": [],
   "source": [
    "# helper func to get repsonse from the gpt model\n",
    "def get_completion(prompt, model=\"gpt-3.5-turbo\"):\n",
    "    messages = [{\"role\": \"user\", \"content\": prompt}]\n",
    "    response = openai.ChatCompletion.create(\n",
    "        model=model,\n",
    "        messages=messages,\n",
    "        temperature=0, # this is the degree of randomness of the model's output\n",
    "    )\n",
    "    return response.choices[0].message[\"content\"]"
   ]
  },
  {
   "cell_type": "markdown",
   "metadata": {},
   "source": [
    "## Prompt Principle\n",
    "1. clear & specific instructions\n",
    "    1. use delimiters to indicate distinct parts of the input. `\"\"\", <>, :, <tag></tag>`\n",
    "    2. ask for structured output. JSON/HTML\n",
    "    3. ask model to check conditions. IF statement.\n",
    "    4. few-show prompt\n",
    "2. give model time to think\n",
    "    1. specify steps to complete a task.\n",
    "    2. guide model to work on its solution before conclusion"
   ]
  },
  {
   "cell_type": "markdown",
   "metadata": {},
   "source": [
    "### 1.1 use delimiters"
   ]
  },
  {
   "cell_type": "code",
   "execution_count": null,
   "metadata": {},
   "outputs": [],
   "source": [
    "text = f\"\"\"\n",
    "A Compiler is a software that typically \\\n",
    "takes a high level language (Like C++ and Java) \\\n",
    "code as input and converts the input to \\\n",
    "a lower level language at once. \\\n",
    "It lists all the errors if the input code \\\n",
    "does not follow the rules of its language. \\\n",
    "This process is much faster than interpreter \\\n",
    "but it becomes difficult to debug \\\n",
    "all the errors together in a program. \n",
    "\"\"\"\n",
    "prompt = f\"\"\"\n",
    "Summarize the text delimited by triple backticks \\ \n",
    "into a single sentence.\n",
    "```{text}```\n",
    "\"\"\"\n",
    "response = get_completion(prompt)\n",
    "print(response)"
   ]
  },
  {
   "cell_type": "markdown",
   "metadata": {},
   "source": [
    "```\n",
    "A compiler is a software that converts high level language code to a lower level language, identifying errors in the code, and is faster than an interpreter but makes debugging more challenging.\n",
    "```"
   ]
  },
  {
   "cell_type": "markdown",
   "metadata": {},
   "source": [
    "### 1.2 structured output"
   ]
  },
  {
   "cell_type": "code",
   "execution_count": null,
   "metadata": {},
   "outputs": [],
   "source": [
    "prompt = f\"\"\"\n",
    "List 5 popular NBA basketball players.\n",
    "Use JSON format with the following keys: \n",
    "name, position, height, #seasons\n",
    "\"\"\"\n",
    "response = get_completion(prompt)\n",
    "print(response)"
   ]
  },
  {
   "cell_type": "markdown",
   "metadata": {},
   "source": [
    "```\n",
    "[\n",
    "  {\n",
    "    \"name\": \"LeBron James\",\n",
    "    \"position\": \"Forward\",\n",
    "    \"height\": \"6'9\\\"\",\n",
    "    \"#seasons\": 18\n",
    "  },\n",
    "  {\n",
    "    \"name\": \"Stephen Curry\",\n",
    "    \"position\": \"Guard\",\n",
    "    \"height\": \"6'3\\\"\",\n",
    "    \"#seasons\": 12\n",
    "  },\n",
    "  {\n",
    "    \"name\": \"Kevin Durant\",\n",
    "    \"position\": \"Forward\",\n",
    "    \"height\": \"6'10\\\"\",\n",
    "    \"#seasons\": 14\n",
    "  },\n",
    "  {\n",
    "    \"name\": \"Giannis Antetokounmpo\",\n",
    "    \"position\": \"Forward\",\n",
    "    \"height\": \"6'11\\\"\",\n",
    "    \"#seasons\": 8\n",
    "  },\n",
    "  {\n",
    "    \"name\": \"Kawhi Leonard\",\n",
    "    \"position\": \"Forward\",\n",
    "    \"height\": \"6'7\\\"\",\n",
    "    \"#seasons\": 10\n",
    "  }\n",
    "]\n",
    "```"
   ]
  },
  {
   "cell_type": "markdown",
   "metadata": {},
   "source": [
    "### 1.3 check conditions"
   ]
  },
  {
   "cell_type": "code",
   "execution_count": null,
   "metadata": {},
   "outputs": [],
   "source": [
    "text_1 = f\"\"\"\n",
    "Making a cup of tea is easy! First, you need to get some \\ \n",
    "water boiling. While that's happening, \\ \n",
    "grab a cup and put a tea bag in it. Once the water is \\ \n",
    "hot enough, just pour it over the tea bag. \\ \n",
    "Let it sit for a bit so the tea can steep. After a \\ \n",
    "few minutes, take out the tea bag. If you \\ \n",
    "like, you can add some sugar or milk to taste. \\ \n",
    "And that's it! You've got yourself a delicious \\ \n",
    "cup of tea to enjoy.\n",
    "\"\"\"\n",
    "prompt = f\"\"\"\n",
    "You will be provided with text delimited by triple quotes. \n",
    "If it contains a sequence of instructions, \\ \n",
    "re-write those instructions in the following format:\n",
    "\n",
    "Step 1 - ...\n",
    "Step 2 - …\n",
    "…\n",
    "Step N - …\n",
    "\n",
    "If the text does not contain a sequence of instructions, \\ \n",
    "then simply write \\\"No steps provided.\\\"\n",
    "\n",
    "\\\"\\\"\\\"{text_1}\\\"\\\"\\\"\n",
    "\"\"\"\n",
    "response = get_completion(prompt)\n",
    "print(response)"
   ]
  },
  {
   "cell_type": "markdown",
   "metadata": {},
   "source": [
    "```\n",
    "Step 1 - Get some water boiling.\n",
    "Step 2 - Grab a cup and put a tea bag in it.\n",
    "Step 3 - Once the water is hot enough, pour it over the tea bag.\n",
    "Step 4 - Let it sit for a bit so the tea can steep.\n",
    "Step 5 - After a few minutes, take out the tea bag.\n",
    "Step 6 - If you like, add some sugar or milk to taste.\n",
    "Step 7 - Enjoy your delicious cup of tea.\n",
    "```"
   ]
  },
  {
   "cell_type": "code",
   "execution_count": null,
   "metadata": {},
   "outputs": [],
   "source": [
    "text_1 = f\"\"\"\n",
    "The sun is shining brightly today, and the birds are \\\n",
    "singing. It's a beautiful day to go for a \\ \n",
    "walk in the park. The flowers are blooming, and the \\ \n",
    "trees are swaying gently in the breeze. People \\ \n",
    "are out and about, enjoying the lovely weather. \\ \n",
    "Some are having picnics, while others are playing \\ \n",
    "games or simply relaxing on the grass. It's a \\ \n",
    "perfect day to spend time outdoors and appreciate the \\ \n",
    "beauty of nature.\n",
    "\"\"\"\n",
    "response = get_completion(prompt)\n",
    "print(response)"
   ]
  },
  {
   "cell_type": "markdown",
   "metadata": {},
   "source": [
    "```\n",
    "No steps provided.\n",
    "```"
   ]
  },
  {
   "cell_type": "markdown",
   "metadata": {},
   "source": [
    "### 1.4 few-show prompt\n",
    "\n",
    "provide demo in prompt to steer the model.\n",
    "\n"
   ]
  },
  {
   "cell_type": "code",
   "execution_count": null,
   "metadata": {},
   "outputs": [],
   "source": [
    "text = \"\"\"\n",
    "A blue starry night illustration, \n",
    "in the style of precise, \n",
    "detailed architecture paintings, \n",
    "colorful turbulence, necronomicon illustrations, \n",
    "dark green and light cyan, suburban gothic, \n",
    "i can’t believe how beautiful this is, poster\n",
    "\"\"\"\n",
    "\n",
    "prompt = f\"\"\"\n",
    "Here is an example prompt for image generator delimited by triple backticks\n",
    "\n",
    "```{text}```\n",
    "\n",
    "Your task is to write in a consistent style.\n",
    "No full sentence, only phrases\n",
    "Topic is <Pictorial art of London>\n",
    "\"\"\"\n",
    "response = get_completion(prompt)\n",
    "print(response)"
   ]
  },
  {
   "cell_type": "markdown",
   "metadata": {},
   "source": [
    "```\n",
    "Vibrant cityscape, \n",
    "meticulous brushstrokes, \n",
    "captivating skyline, \n",
    "urban symphony, \n",
    "majestic architecture, \n",
    "timeless beauty, \n",
    "lively street scenes, \n",
    "iconic landmarks, \n",
    "expressive colors, \n",
    "impressionistic charm, \n",
    "nostalgic atmosphere, \n",
    "masterful composition, \n",
    "captivating perspectives, \n",
    "romantic river Thames, \n",
    "ethereal fog, \n",
    "charming cobblestone streets, \n",
    "elegant Victorian buildings, \n",
    "bustling markets, \n",
    "serene parks, \n",
    "hidden alleys, \n",
    "majestic bridges, \n",
    "royal palaces, \n",
    "enchanting gardens, \n",
    "historic monuments, \n",
    "time-honored traditions, \n",
    "captivating artistry, \n",
    "London's visual poetry.\n",
    "```"
   ]
  },
  {
   "cell_type": "markdown",
   "metadata": {},
   "source": [
    "### 2.1 specify steps"
   ]
  },
  {
   "cell_type": "code",
   "execution_count": null,
   "metadata": {},
   "outputs": [],
   "source": [
    "text = \"\"\"\n",
    "According to multiple sources, \\\n",
    "Kevin Durant was traded from the Brooklyn Nets \\\n",
    "to the Phoenix Suns in a four-team deal that \\\n",
    "involved the Milwaukee Bucks and Indiana Pacers.\\\n",
    "In exchange for Durant and T.J. Warren, \\\n",
    "the Suns sent Mikal Bridges, \\\n",
    "Cam Johnson, Jae Crowder, four first-round picks, \\\n",
    "and a 2028 draft swap to Brooklyn. \\\n",
    "The trade was a surprise and had a huge impact on \\\n",
    "the betting odds. Durant had previously asked for \\\n",
    "a trade during the offseason, \\\n",
    "but the Nets did not find a deal for him.\n",
    "\"\"\"\n",
    "\n",
    "prompt = f\"\"\"\n",
    "Perform the following actions: \n",
    "1 - Summarize the following text delimited by triple backticks with 1 sentence.\n",
    "2 - Translate the summary in step one into Chinese.\n",
    "3 - List each player's name mentioned.\n",
    "4 - List each NBA team mentioned.\n",
    "5 - Output a JSON object with following key value pair: <team: players received>\n",
    "\n",
    "Separate your answers with line breaks.\n",
    "\n",
    "Text:\n",
    "```{text}```\n",
    "\"\"\"\n",
    "response = get_completion(prompt)\n",
    "print(response)"
   ]
  },
  {
   "cell_type": "markdown",
   "metadata": {},
   "source": [
    "```\n",
    "1 - Kevin Durant was traded from the Brooklyn Nets to the Phoenix Suns in a four-team deal that involved the Milwaukee Bucks and Indiana Pacers, with the Suns sending Mikal Bridges, Cam Johnson, Jae Crowder, four first-round picks, and a 2028 draft swap to Brooklyn in exchange for Durant and T.J. Warren.\n",
    "\n",
    "2 - 根据多个消息来源，凯文·杜兰特从布鲁克林篮网队被交易到菲尼克斯太阳队，这是一笔涉及密尔沃基雄鹿队和印第安纳步行者队的四队交易，太阳队以米卡尔·布里奇斯、卡姆·约翰逊、杰·克劳德、四个首轮选秀权和2028年选秀权交换了杜兰特和T.J.沃伦。\n",
    "\n",
    "3 - Kevin Durant, T.J. Warren, Mikal Bridges, Cam Johnson, Jae Crowder.\n",
    "\n",
    "4 - Brooklyn Nets, Phoenix Suns, Milwaukee Bucks, Indiana Pacers.\n",
    "\n",
    "5 - {\"Brooklyn Nets\": [\"Mikal Bridges\", \"Cam Johnson\", \"Jae Crowder\", \"four first-round picks\", \"2028 draft swap\"], \"Phoenix Suns\": [\"Kevin Durant\", \"T.J. Warren\"]}\n",
    "```"
   ]
  },
  {
   "cell_type": "markdown",
   "metadata": {},
   "source": [
    "### 2.2 guide model before conclusion"
   ]
  },
  {
   "cell_type": "markdown",
   "metadata": {},
   "source": [
    "\n",
    "sometimes, model rushes to incorrect conclusions without proper reasoning.\n",
    "\n",
    "To avoid, we instruct the model to work out its own solution and then conclude."
   ]
  },
  {
   "cell_type": "code",
   "execution_count": null,
   "metadata": {},
   "outputs": [],
   "source": [
    "# example rushing to conclusion\n",
    "prompt = f\"\"\"\n",
    "Determine if the student's solution is correct or not.\n",
    "\n",
    "Question:\n",
    "I'm building a solar power installation and I need \\\n",
    " help working out the financials. \n",
    "- Land costs $100 / square foot\n",
    "- I can buy solar panels for $250 / square foot\n",
    "- I negotiated a contract for maintenance that will cost \\ \n",
    "me a flat $100k per year, and an additional $10 / square \\\n",
    "foot\n",
    "What is the total cost for the first year of operations \n",
    "as a function of the number of square feet.\n",
    "\n",
    "Student's Solution:\n",
    "Let x be the size of the installation in square feet.\n",
    "Costs:\n",
    "1. Land cost: 100x\n",
    "2. Solar panel cost: 250x\n",
    "3. Maintenance cost: 100,000 + 100x\n",
    "Total cost: 100x + 250x + 100,000 + 100x = 450x + 100,000\n",
    "\"\"\"\n",
    "response = get_completion(prompt)\n",
    "print(response)"
   ]
  },
  {
   "cell_type": "markdown",
   "metadata": {},
   "source": [
    "```\n",
    "The student's solution is correct. They correctly identified the costs for land, solar panels, and maintenance, and calculated the total cost as a function of the number of square feet.\n",
    "```"
   ]
  },
  {
   "cell_type": "code",
   "execution_count": null,
   "metadata": {},
   "outputs": [],
   "source": [
    "prompt = f\"\"\"\n",
    "Your task is to determine if the student's solution \\\n",
    "is correct or not.\n",
    "To solve the problem do the following:\n",
    "- First, work out your own solution to the problem. \n",
    "- Then compare your solution to the student's solution \\ \n",
    "and evaluate if the student's solution is correct or not. \n",
    "Don't decide if the student's solution is correct until \n",
    "you have done the problem yourself.\n",
    "\n",
    "Use the following format:\n",
    "Question:\n",
    "```\n",
    "question here\n",
    "```\n",
    "Student's solution:\n",
    "```\n",
    "student's solution here\n",
    "```\n",
    "Actual solution:\n",
    "```\n",
    "steps to work out the solution and your solution here\n",
    "```\n",
    "Is the student's solution the same as actual solution \\\n",
    "just calculated:\n",
    "```\n",
    "yes or no\n",
    "```\n",
    "Student grade:\n",
    "```\n",
    "correct or incorrect\n",
    "```\n",
    "\n",
    "Question:\n",
    "```\n",
    "I'm building a solar power installation and I need help \\\n",
    "working out the financials. \n",
    "- Land costs $100 / square foot\n",
    "- I can buy solar panels for $250 / square foot\n",
    "- I negotiated a contract for maintenance that will cost \\\n",
    "me a flat $100k per year, and an additional $10 / square \\\n",
    "foot\n",
    "What is the total cost for the first year of operations \\\n",
    "as a function of the number of square feet.\n",
    "``` \n",
    "Student's solution:\n",
    "```\n",
    "Let x be the size of the installation in square feet.\n",
    "Costs:\n",
    "1. Land cost: 100x\n",
    "2. Solar panel cost: 250x\n",
    "3. Maintenance cost: 100,000 + 100x\n",
    "Total cost: 100x + 250x + 100,000 + 100x = 450x + 100,000\n",
    "```\n",
    "Actual solution:\n",
    "\"\"\"\n",
    "response = get_completion(prompt)\n",
    "print(response)"
   ]
  },
  {
   "cell_type": "markdown",
   "metadata": {},
   "source": [
    "```\n",
    "To calculate the total cost for the first year of operations, we need to add up the costs of land, solar panels, and maintenance.\n",
    "\n",
    "Let x be the size of the installation in square feet.\n",
    "\n",
    "Costs:\n",
    "1. Land cost: $100 * x\n",
    "2. Solar panel cost: $250 * x\n",
    "3. Maintenance cost: $100,000 + $10 * x\n",
    "\n",
    "Total cost: $100 * x + $250 * x + $100,000 + $10 * x = $360 * x + $100,000\n",
    "\n",
    "Is the student's solution the same as the actual solution just calculated:\n",
    "No\n",
    "\n",
    "Student grade:\n",
    "Incorrect\n",
    "```"
   ]
  },
  {
   "cell_type": "markdown",
   "metadata": {},
   "source": [
    "### my prompt example"
   ]
  },
  {
   "cell_type": "code",
   "execution_count": null,
   "metadata": {},
   "outputs": [],
   "source": [
    "prompt = f\"\"\"\n",
    "Your task is to perform the following actions:\n",
    "1 - Summarize the book, twenty thousand leagues under the sea, \\\n",
    "by jules verne.\n",
    "2 - find out the name of the main submarine.\n",
    "3 - list names of the top 5 characters in the book.\n",
    "4 - find out which country each part of the submarine comes from before it was assembled.\n",
    "\n",
    "Use the following format:\n",
    "Summary: <summary>\n",
    "Submarine Name: <its name>\n",
    "People: <name1: gender, name2: gender, ...>\n",
    "Parts: <Json format with keys: part_name, country>\n",
    "\n",
    "Separate your answers with line breaks.\n",
    "\"\"\"\n",
    "response = get_completion(prompt)\n",
    "print(response)"
   ]
  },
  {
   "cell_type": "markdown",
   "metadata": {},
   "source": [
    "```\n",
    "Summary: Twenty Thousand Leagues Under the Sea is a science fiction adventure novel written by Jules Verne. The story follows the journey of Professor Pierre Aronnax, his loyal servant Conseil, and harpooner Ned Land as they are captured by Captain Nemo, a mysterious and enigmatic character. They are taken aboard the Nautilus, a technologically advanced submarine, and embark on a thrilling underwater expedition across the world's oceans. Throughout their voyage, they encounter various marine creatures, explore underwater landscapes, and witness the wonders of the deep sea.\n",
    "\n",
    "Submarine Name: The main submarine in the book is called the Nautilus.\n",
    "\n",
    "People: \n",
    "1. Captain Nemo: Male\n",
    "2. Professor Pierre Aronnax: Male\n",
    "3. Conseil: Male\n",
    "4. Ned Land: Male\n",
    "5. Captain Farragut: Male\n",
    "\n",
    "Parts: \n",
    "{\n",
    "  \"Hull\": \"France\",\n",
    "  \"Propeller\": \"England\",\n",
    "  \"Engine\": \"Scotland\",\n",
    "  \"Electricity Generator\": \"USA\",\n",
    "  \"Navigation Instruments\": \"Germany\"\n",
    "}\n",
    "```"
   ]
  }
 ],
 "metadata": {
  "kernelspec": {
   "display_name": "Python 3",
   "language": "python",
   "name": "python3"
  },
  "language_info": {
   "codemirror_mode": {
    "name": "ipython",
    "version": 3
   },
   "file_extension": ".py",
   "mimetype": "text/x-python",
   "name": "python",
   "nbconvert_exporter": "python",
   "pygments_lexer": "ipython3",
   "version": "3.11.4"
  },
  "orig_nbformat": 4
 },
 "nbformat": 4,
 "nbformat_minor": 2
}
